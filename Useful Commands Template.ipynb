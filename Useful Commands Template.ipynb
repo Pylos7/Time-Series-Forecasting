{
 "cells": [
  {
   "cell_type": "code",
   "execution_count": null,
   "id": "2f2d3183",
   "metadata": {},
   "outputs": [],
   "source": [
    "# Libraries\n",
    "import pandas as pd\n",
    "import numpy as np\n",
    "import matplotlib.pyplot as plt"
   ]
  },
  {
   "cell_type": "code",
   "execution_count": null,
   "id": "2c87032d",
   "metadata": {},
   "outputs": [],
   "source": [
    "# Load the data\n",
    "# YYYY-MM-DD\n",
    "df = pd.read_csv(\"nyc_data.csv\", index_col=0, parse_dates=True)\n",
    "df.head()b"
   ]
  },
  {
   "cell_type": "code",
   "execution_count": null,
   "id": "dcc86a7e",
   "metadata": {},
   "outputs": [],
   "source": [
    "# Rename variable\n",
    "df = df.rename(columns = {\"Demand\": \"y\"})\n",
    "df.head(0)"
   ]
  },
  {
   "cell_type": "code",
   "execution_count": null,
   "id": "b25ea56e",
   "metadata": {},
   "outputs": [],
   "source": [
    "# Export best parameters\n",
    "best_params = tuning_results[tuning_results.rmse == tuning_results.rmse.min]"
   ]
  },
  {
   "cell_type": "code",
   "execution_count": null,
   "id": "0501ba8a",
   "metadata": {},
   "outputs": [],
   "source": [
    "#export best parameters\n",
    "best_params = tuning_results[tuning_results.rmse == tuning_results.rmse.min()].transpose()\n",
    "best_params.to_csv(\"../Forecasting Product/best_params_sarimax.csv\")\n",
    "best_params"
   ]
  },
  {
   "cell_type": "code",
   "execution_count": null,
   "id": "92f6ec56",
   "metadata": {},
   "outputs": [],
   "source": [
    "# Get the best parameters\n",
    "parameters = pd.read_csv(\"../Forecasting Product/best_params_sarimax.csv\", index_col = 0)\n",
    "parameters"
   ]
  }
 ],
 "metadata": {
  "kernelspec": {
   "display_name": "Python 3 (ipykernel)",
   "language": "python",
   "name": "python3"
  },
  "language_info": {
   "codemirror_mode": {
    "name": "ipython",
    "version": 3
   },
   "file_extension": ".py",
   "mimetype": "text/x-python",
   "name": "python",
   "nbconvert_exporter": "python",
   "pygments_lexer": "ipython3",
   "version": "3.8.17"
  }
 },
 "nbformat": 4,
 "nbformat_minor": 5
}
