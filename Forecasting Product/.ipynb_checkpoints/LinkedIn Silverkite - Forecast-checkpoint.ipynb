{
 "cells": [
  {
   "cell_type": "markdown",
   "metadata": {
    "id": "H2C2GKLNWu3h"
   },
   "source": [
    "#Libraries and data"
   ]
  },
  {
   "cell_type": "code",
   "execution_count": 1,
   "metadata": {
    "colab": {
     "base_uri": "https://localhost:8080/"
    },
    "executionInfo": {
     "elapsed": 20706,
     "status": "ok",
     "timestamp": 1657173193339,
     "user": {
      "displayName": "Diogo Resende",
      "userId": "05706604408624562002"
     },
     "user_tz": -120
    },
    "id": "_HOGG1cTWpiA",
    "outputId": "f6e56bca-a847-4475-aa77-b7075ae11acd"
   },
   "outputs": [
    {
     "ename": "ModuleNotFoundError",
     "evalue": "No module named 'google.colab'",
     "output_type": "error",
     "traceback": [
      "\u001b[1;31m---------------------------------------------------------------------------\u001b[0m",
      "\u001b[1;31mModuleNotFoundError\u001b[0m                       Traceback (most recent call last)",
      "Cell \u001b[1;32mIn[1], line 1\u001b[0m\n\u001b[1;32m----> 1\u001b[0m \u001b[38;5;28;01mfrom\u001b[39;00m \u001b[38;5;21;01mgoogle\u001b[39;00m\u001b[38;5;21;01m.\u001b[39;00m\u001b[38;5;21;01mcolab\u001b[39;00m \u001b[38;5;28;01mimport\u001b[39;00m drive\n\u001b[0;32m      2\u001b[0m drive\u001b[38;5;241m.\u001b[39mmount(\u001b[38;5;124m'\u001b[39m\u001b[38;5;124m/content/drive\u001b[39m\u001b[38;5;124m'\u001b[39m)\n",
      "\u001b[1;31mModuleNotFoundError\u001b[0m: No module named 'google.colab'"
     ]
    }
   ],
   "source": [
    "from google.colab import drive\n",
    "drive.mount('/content/drive')"
   ]
  },
  {
   "cell_type": "code",
   "execution_count": null,
   "metadata": {
    "colab": {
     "base_uri": "https://localhost:8080/"
    },
    "executionInfo": {
     "elapsed": 243,
     "status": "ok",
     "timestamp": 1657173204544,
     "user": {
      "displayName": "Diogo Resende",
      "userId": "05706604408624562002"
     },
     "user_tz": -120
    },
    "id": "6cuH-iC-WlR4",
    "outputId": "6ece317d-b44d-4d0c-de4a-055fc7eae30c"
   },
   "outputs": [],
   "source": [
    "#change directory\n",
    "%cd /content/drive/MyDrive/Time Series Forecasting Product"
   ]
  },
  {
   "cell_type": "code",
   "execution_count": null,
   "metadata": {
    "id": "J7xhJqZpXNz7"
   },
   "outputs": [],
   "source": [
    "#Install Greykite\n",
    "!pip install greykite"
   ]
  },
  {
   "cell_type": "code",
   "execution_count": null,
   "metadata": {
    "id": "4HbK3pe5W0_k"
   },
   "outputs": [],
   "source": [
    "#libraries\n",
    "import numpy as np\n",
    "import pandas as pd\n",
    "from greykite.framework.templates.autogen.forecast_config import *\n",
    "from greykite.framework.templates.forecaster import Forecaster\n",
    "from greykite.framework.templates.model_templates import ModelTemplateEnum\n",
    "from greykite.common.features.timeseries_features import *\n",
    "from greykite.common.evaluation import EvaluationMetricEnum\n",
    "from greykite.framework.utils.result_summary import summarize_grid_search_results\n",
    "from plotly.offline import iplot"
   ]
  },
  {
   "cell_type": "code",
   "execution_count": null,
   "metadata": {
    "colab": {
     "base_uri": "https://localhost:8080/",
     "height": 206
    },
    "executionInfo": {
     "elapsed": 829,
     "status": "ok",
     "timestamp": 1657173271953,
     "user": {
      "displayName": "Diogo Resende",
      "userId": "05706604408624562002"
     },
     "user_tz": -120
    },
    "id": "I3fNpxVfchGL",
    "outputId": "8172f496-d6b8-4e92-fe8b-4aefbfba51b8"
   },
   "outputs": [],
   "source": [
    "#load the data\n",
    "#YYYY-MM-DD\n",
    "df = pd.read_csv('nyc_data.csv')\n",
    "future_df = pd.read_csv('future.csv')\n",
    "future_df.head()"
   ]
  },
  {
   "cell_type": "code",
   "execution_count": null,
   "metadata": {
    "colab": {
     "base_uri": "https://localhost:8080/",
     "height": 205
    },
    "executionInfo": {
     "elapsed": 589,
     "status": "ok",
     "timestamp": 1657173503452,
     "user": {
      "displayName": "Diogo Resende",
      "userId": "05706604408624562002"
     },
     "user_tz": -120
    },
    "id": "0uBp4F81PMPg",
    "outputId": "cf29f013-20c5-48a6-efc9-57b850d925ed"
   },
   "outputs": [],
   "source": [
    "#get the best parameters\n",
    "parameters  = pd.read_csv(\"Forecasting Product/best_params_silverkite.csv\", \n",
    "                          index_col = 0)\n",
    "parameters"
   ]
  },
  {
   "cell_type": "code",
   "execution_count": null,
   "metadata": {
    "id": "9bnRqatPPRBq"
   },
   "outputs": [],
   "source": [
    "#get the parameters\n",
    "growth_term_param = parameters.loc[\"param_estimator__growth_term\"][0]\n",
    "fit_algorithm_param = parameters.loc[\"param_estimator__fit_algorithm_dict\"][0]"
   ]
  },
  {
   "cell_type": "code",
   "execution_count": null,
   "metadata": {
    "colab": {
     "base_uri": "https://localhost:8080/",
     "height": 206
    },
    "executionInfo": {
     "elapsed": 7,
     "status": "ok",
     "timestamp": 1657173701432,
     "user": {
      "displayName": "Diogo Resende",
      "userId": "05706604408624562002"
     },
     "user_tz": -120
    },
    "id": "sqB27PkJc1Jk",
    "outputId": "78b73a0a-3a60-46a2-df82-964edc7c258f"
   },
   "outputs": [],
   "source": [
    "#merging both\n",
    "df = pd.concat([df, future_df])\n",
    "df = df.reset_index(drop = True)\n",
    "df.head()"
   ]
  },
  {
   "cell_type": "code",
   "execution_count": null,
   "metadata": {
    "colab": {
     "base_uri": "https://localhost:8080/",
     "height": 206
    },
    "executionInfo": {
     "elapsed": 225,
     "status": "ok",
     "timestamp": 1657173713682,
     "user": {
      "displayName": "Diogo Resende",
      "userId": "05706604408624562002"
     },
     "user_tz": -120
    },
    "id": "mEWITuuKdG3m",
    "outputId": "113e6434-6dce-4b2f-e28a-a4db70ca0389"
   },
   "outputs": [],
   "source": [
    "#inspecting df\n",
    "df.tail()"
   ]
  },
  {
   "cell_type": "code",
   "execution_count": null,
   "metadata": {
    "colab": {
     "base_uri": "https://localhost:8080/",
     "height": 49
    },
    "executionInfo": {
     "elapsed": 243,
     "status": "ok",
     "timestamp": 1657173728856,
     "user": {
      "displayName": "Diogo Resende",
      "userId": "05706604408624562002"
     },
     "user_tz": -120
    },
    "id": "FczRWrv8dN7e",
    "outputId": "3d3abaee-3fe8-4f57-a4c2-7582469b3dd8"
   },
   "outputs": [],
   "source": [
    "#Rename variable\n",
    "df = df.rename(columns = {'Demand': 'y'})\n",
    "df.head(0)"
   ]
  },
  {
   "cell_type": "markdown",
   "metadata": {
    "id": "H16UHL8ddnwF"
   },
   "source": [
    "#Silverkite Preparations"
   ]
  },
  {
   "cell_type": "code",
   "execution_count": null,
   "metadata": {
    "colab": {
     "base_uri": "https://localhost:8080/"
    },
    "executionInfo": {
     "elapsed": 229,
     "status": "ok",
     "timestamp": 1657173740286,
     "user": {
      "displayName": "Diogo Resende",
      "userId": "05706604408624562002"
     },
     "user_tz": -120
    },
    "id": "rnCYEQCudqFg",
    "outputId": "88da3b41-d31e-49ae-d4bb-d69b258d9c07"
   },
   "outputs": [],
   "source": [
    "#Specifying Time Series names\n",
    "metadata = MetadataParam(time_col = \"Date\",\n",
    "                         value_col = \"y\",\n",
    "                         freq = \"D\",\n",
    "                         train_end_date = pd.to_datetime(\"2020-12-31\"))\n",
    "metadata"
   ]
  },
  {
   "cell_type": "code",
   "execution_count": null,
   "metadata": {
    "colab": {
     "base_uri": "https://localhost:8080/"
    },
    "executionInfo": {
     "elapsed": 5,
     "status": "ok",
     "timestamp": 1657173784527,
     "user": {
      "displayName": "Diogo Resende",
      "userId": "05706604408624562002"
     },
     "user_tz": -120
    },
    "id": "bvtuO0eKha3X",
    "outputId": "0da18782-ef7d-4b66-cf0c-3839a136be49"
   },
   "outputs": [],
   "source": [
    "#growth terms possibilities\n",
    "growth = dict(growth_term = growth_term_param)\n",
    "growth"
   ]
  },
  {
   "cell_type": "code",
   "execution_count": null,
   "metadata": {
    "colab": {
     "base_uri": "https://localhost:8080/"
    },
    "executionInfo": {
     "elapsed": 217,
     "status": "ok",
     "timestamp": 1657173797563,
     "user": {
      "displayName": "Diogo Resende",
      "userId": "05706604408624562002"
     },
     "user_tz": -120
    },
    "id": "-Jk0dEaYDEAv",
    "outputId": "7abb34b6-9d06-4aeb-d541-edb6f711002a"
   },
   "outputs": [],
   "source": [
    "#seasonalities\n",
    "seasonality = dict(yearly_seasonality = \"auto\",\n",
    "                   quarterly_seasonality = \"auto\",\n",
    "                   monthly_seasonality = \"auto\",\n",
    "                   weekly_seasonality = \"auto\",\n",
    "                   daily_seasonality = \"auto\")\n",
    "seasonality"
   ]
  },
  {
   "cell_type": "code",
   "execution_count": null,
   "metadata": {
    "colab": {
     "base_uri": "https://localhost:8080/"
    },
    "executionInfo": {
     "elapsed": 247,
     "status": "ok",
     "timestamp": 1657173824127,
     "user": {
      "displayName": "Diogo Resende",
      "userId": "05706604408624562002"
     },
     "user_tz": -120
    },
    "id": "d_35s-9qFKoG",
    "outputId": "ef6ed26b-2924-4a0f-d90b-13ea9ed0e65f"
   },
   "outputs": [],
   "source": [
    "#Specifying events\n",
    "events = dict(holidays_to_model_separately = [\"New Year's Day\"],\n",
    "              holiday_lookup_countries = [\"US\"],\n",
    "              holiday_pre_num_days = 2,\n",
    "              holiday_post_num_days = 2,\n",
    "              holiday_pre_post_num_dict = {\"New Year's Day\": (3,1)},\n",
    "              daily_event_df_dict = {\"elections\": pd.DataFrame({\n",
    "                  \"date\": [\"2016-11-08\", \"2020-11-03\"],\n",
    "                  \"event_name\": [\"elections\"] * 2\n",
    "              })})\n",
    "events"
   ]
  },
  {
   "cell_type": "code",
   "execution_count": null,
   "metadata": {
    "id": "aGeHob5lHKDu"
   },
   "outputs": [],
   "source": [
    "#Changepoints -> reflects the changes in the trend\n",
    "changepoints = dict(changepoints_dict = dict(method = \"auto\"))"
   ]
  },
  {
   "cell_type": "code",
   "execution_count": null,
   "metadata": {
    "colab": {
     "base_uri": "https://localhost:8080/"
    },
    "executionInfo": {
     "elapsed": 4,
     "status": "ok",
     "timestamp": 1657173832637,
     "user": {
      "displayName": "Diogo Resende",
      "userId": "05706604408624562002"
     },
     "user_tz": -120
    },
    "id": "zXYdcCJkHa83",
    "outputId": "b5e5e36a-7f81-47a5-de67-8aa7c5779820"
   },
   "outputs": [],
   "source": [
    "#Regressors\n",
    "regressors = dict(regressor_cols = [\"Easter\", \"Temperature\", \"Marketing\"])\n",
    "regressors"
   ]
  },
  {
   "cell_type": "code",
   "execution_count": null,
   "metadata": {
    "id": "z7-5rsI3JJoe"
   },
   "outputs": [],
   "source": [
    "#Lagged Regressors\n",
    "lagged_regressors = dict(lagged_regressor_dict = {\"Temperature\": \"auto\",\n",
    "                                                  \"Easter\": \"auto\",\n",
    "                                                  \"Marketing\": \"auto\"})"
   ]
  },
  {
   "cell_type": "code",
   "execution_count": null,
   "metadata": {
    "id": "oIolBpOGJgyg"
   },
   "outputs": [],
   "source": [
    "#autogression -> dependent on the forecasting horizon\n",
    "autoregression = dict(autoreg_dict = \"auto\")"
   ]
  },
  {
   "cell_type": "code",
   "execution_count": null,
   "metadata": {
    "colab": {
     "base_uri": "https://localhost:8080/",
     "height": 35
    },
    "executionInfo": {
     "elapsed": 241,
     "status": "ok",
     "timestamp": 1657173868424,
     "user": {
      "displayName": "Diogo Resende",
      "userId": "05706604408624562002"
     },
     "user_tz": -120
    },
    "id": "hKOEUMbFQl32",
    "outputId": "4bf46f02-635d-4d50-e38a-d19630a29e6b"
   },
   "outputs": [],
   "source": [
    "fit_algorithm_param"
   ]
  },
  {
   "cell_type": "code",
   "execution_count": null,
   "metadata": {
    "colab": {
     "base_uri": "https://localhost:8080/"
    },
    "executionInfo": {
     "elapsed": 228,
     "status": "ok",
     "timestamp": 1657173942062,
     "user": {
      "displayName": "Diogo Resende",
      "userId": "05706604408624562002"
     },
     "user_tz": -120
    },
    "id": "F471PHVfUBO-",
    "outputId": "f79830f4-3c87-41f9-f2b8-3d0513a99221"
   },
   "outputs": [],
   "source": [
    "#Fitting algorithms\n",
    "import yaml\n",
    "custom = dict(fit_algorithm_dict = yaml.load(fit_algorithm_param))\n",
    "custom"
   ]
  },
  {
   "cell_type": "markdown",
   "metadata": {
    "id": "mT3iCCdiV0SO"
   },
   "source": [
    "#Silverkite Model"
   ]
  },
  {
   "cell_type": "code",
   "execution_count": null,
   "metadata": {
    "id": "j2jGjvHyUvtO"
   },
   "outputs": [],
   "source": [
    "#Build the model\n",
    "model_components = ModelComponentsParam(growth = growth,\n",
    "                                        seasonality = seasonality,\n",
    "                                        events = events,\n",
    "                                        changepoints = changepoints,\n",
    "                                        regressors = regressors,\n",
    "                                        lagged_regressors = lagged_regressors,\n",
    "                                        autoregression = autoregression,\n",
    "                                        custom = custom)"
   ]
  },
  {
   "cell_type": "code",
   "execution_count": null,
   "metadata": {
    "id": "b0HUsgU1V2Bp"
   },
   "outputs": [],
   "source": [
    "#Cross-validation\n",
    "evaluation_period = EvaluationPeriodParam(cv_min_train_periods= df.shape[0] - 180 -31,\n",
    "                                          cv_expanding_window = True,\n",
    "                                          cv_max_splits = 50,\n",
    "                                          cv_periods_between_splits = 16)"
   ]
  },
  {
   "cell_type": "code",
   "execution_count": null,
   "metadata": {
    "id": "Chz8q9bjXV82"
   },
   "outputs": [],
   "source": [
    "#Evaluation metric \n",
    "evaluation_metric = EvaluationMetricParam(\n",
    "    cv_selection_metric = EvaluationMetricEnum.RootMeanSquaredError.name)"
   ]
  },
  {
   "cell_type": "code",
   "execution_count": null,
   "metadata": {
    "id": "0Lo5t1x0XqEG"
   },
   "outputs": [],
   "source": [
    "#Configuration\n",
    "config = ForecastConfig(model_template = ModelTemplateEnum.SILVERKITE.name,\n",
    "                        forecast_horizon = 31,\n",
    "                        metadata_param = metadata,\n",
    "                        model_components_param = model_components,\n",
    "                        evaluation_period_param=evaluation_period,\n",
    "                        evaluation_metric_param = evaluation_metric)"
   ]
  },
  {
   "cell_type": "code",
   "execution_count": null,
   "metadata": {
    "id": "bTkqO_iiYru_"
   },
   "outputs": [],
   "source": [
    "#Forecasting\n",
    "forecaster = Forecaster()\n",
    "result = forecaster.run_forecast_config(df = df,\n",
    "                                        config = config)"
   ]
  },
  {
   "cell_type": "code",
   "execution_count": null,
   "metadata": {
    "colab": {
     "base_uri": "https://localhost:8080/"
    },
    "executionInfo": {
     "elapsed": 689,
     "status": "ok",
     "timestamp": 1657174602817,
     "user": {
      "displayName": "Diogo Resende",
      "userId": "05706604408624562002"
     },
     "user_tz": -120
    },
    "id": "gY5UbTVlR0Si",
    "outputId": "e0716d55-f126-4117-deb2-9c8fd5da1bb3"
   },
   "outputs": [],
   "source": [
    "#Look at the model summary\n",
    "summary = result.model[-1].summary() #-1 restrieves the estimator from the pipeline\n",
    "print(summary)"
   ]
  },
  {
   "cell_type": "code",
   "execution_count": null,
   "metadata": {
    "colab": {
     "base_uri": "https://localhost:8080/",
     "height": 1000
    },
    "executionInfo": {
     "elapsed": 2250,
     "status": "ok",
     "timestamp": 1657174439517,
     "user": {
      "displayName": "Diogo Resende",
      "userId": "05706604408624562002"
     },
     "user_tz": -120
    },
    "id": "bYzqjmy0qM8G",
    "outputId": "b44b8ef9-7dbc-4e18-a164-00400c629a85"
   },
   "outputs": [],
   "source": [
    "#visualization\n",
    "fig = result.forecast.plot_components()\n",
    "iplot(fig)"
   ]
  },
  {
   "cell_type": "code",
   "execution_count": null,
   "metadata": {
    "id": "zWerMuu7VMxB"
   },
   "outputs": [],
   "source": [
    "#getting the forecast result\n",
    "forecast = result.forecast.df[[\"Date\", \"forecast\"]]\n",
    "forecast = forecast.rename(columns = {'forecast': 'silverkite'})\n",
    "predictions_silverkite = forecast.iloc[-31:,:]\n",
    "predictions_silverkite"
   ]
  },
  {
   "cell_type": "code",
   "execution_count": null,
   "metadata": {
    "id": "0CXRi_T7VybY"
   },
   "outputs": [],
   "source": [
    "#exporting\n",
    "predictions_silverkite.to_csv(\"Forecasting Product/Ensemble/predictions_silverkite.csv\")"
   ]
  }
 ],
 "metadata": {
  "colab": {
   "authorship_tag": "ABX9TyPz5Fu3mc79V5t+iREd6sIn",
   "collapsed_sections": [],
   "mount_file_id": "1pasF7GAAEtLS5vz9lmIYkoNftCe5_HG2",
   "name": "LinkedIn Silverkite - Forecast.ipynb",
   "provenance": []
  },
  "kernelspec": {
   "display_name": "Python 3 (ipykernel)",
   "language": "python",
   "name": "python3"
  },
  "language_info": {
   "codemirror_mode": {
    "name": "ipython",
    "version": 3
   },
   "file_extension": ".py",
   "mimetype": "text/x-python",
   "name": "python",
   "nbconvert_exporter": "python",
   "pygments_lexer": "ipython3",
   "version": "3.8.17"
  }
 },
 "nbformat": 4,
 "nbformat_minor": 1
}
