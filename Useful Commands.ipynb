{
 "cells": [
  {
   "cell_type": "code",
   "execution_count": null,
   "metadata": {
    "id": "-mzpk8F77_8J"
   },
   "outputs": [],
   "source": [
    "#change directory loaction\n",
    "%cd /content/drive/MyDrive/Time Series Forecasting Product"
   ]
  },
  {
   "cell_type": "code",
   "execution_count": null,
   "metadata": {
    "id": "7h3nwr8U8NkX"
   },
   "outputs": [],
   "source": [
    "#libraries\n",
    "import numpy as np\n",
    "import pandas as pd\n",
    "import matplotlib.pyplot as plt\n",
    "from sklearn.model_selection import ParameterGrid"
   ]
  },
  {
   "cell_type": "code",
   "execution_count": null,
   "metadata": {
    "id": "7zgWgjBx8S1n"
   },
   "outputs": [],
   "source": [
    "#load the data\n",
    "#YYYY-MM-DD\n",
    "df = pd.read_csv('nyc_data.csv', index_col = 0, parse_dates = True)\n",
    "df.head()"
   ]
  },
  {
   "cell_type": "code",
   "execution_count": null,
   "metadata": {
    "id": "g-3KogCW8VEd"
   },
   "outputs": [],
   "source": [
    "#Rename variable\n",
    "df = df.rename(columns = {'Demand': 'y'})\n",
    "df.head(0)"
   ]
  },
  {
   "cell_type": "code",
   "execution_count": null,
   "metadata": {
    "id": "uodmdx8ncxf6"
   },
   "outputs": [],
   "source": [
    "#Check the results\n",
    "tuning_results = pd.DataFrame(grid)\n",
    "tuning_results['rmse'] = rmse\n",
    "tuning_results"
   ]
  },
  {
   "cell_type": "code",
   "execution_count": null,
   "metadata": {
    "id": "ExCkyXkyczjy"
   },
   "outputs": [],
   "source": [
    "#export best parameters\n",
    "best_params = tuning_results[tuning_results.rmse == tuning_results.rmse.min()].transpose()\n",
    "best_params.to_csv(\"Forecasting Product/best_params_prophet.csv\")"
   ]
  },
  {
   "cell_type": "code",
   "execution_count": null,
   "metadata": {
    "id": "ei7viQ2xD8UL"
   },
   "outputs": [],
   "source": [
    "#get the best parameters\n",
    "parameters  = pd.read_csv(\"Forecasting Product/best_params_sarimax.csv\", \n",
    "                          index_col = 0)\n",
    "parameters"
   ]
  },
  {
   "cell_type": "code",
   "execution_count": null,
   "metadata": {
    "id": "YiDWXsF3D_NA"
   },
   "outputs": [],
   "source": [
    "#exporting\n",
    "predictions_sarimax.to_csv(\"Forecasting Product/Ensemble/predictions_sarimax.csv\")"
   ]
  },
  {
   "cell_type": "code",
   "execution_count": null,
   "metadata": {},
   "outputs": [],
   "source": [
    "# Check the results\n",
    "tuning_results = pd.DataFrame(grid)\n",
    "tuning_results['rmse'] = rmse\n",
    "\n",
    "# Find the index of the minimum RMSE value\n",
    "min_rmse_index = tuning_results['rmse'].idxmin()\n",
    "\n",
    "# Extract the row with the minimum RMSE (best_params)\n",
    "best_params = tuning_results.loc[min_rmse_index]\n",
    "\n",
    "print(\"Row with the minimum RMSE (best_params):\")\n",
    "print(best_params)"
   ]
  },
  {
   "cell_type": "code",
   "execution_count": 1,
   "metadata": {},
   "outputs": [
    {
     "ename": "NameError",
     "evalue": "name 'best_params' is not defined",
     "output_type": "error",
     "traceback": [
      "\u001b[1;31m---------------------------------------------------------------------------\u001b[0m",
      "\u001b[1;31mNameError\u001b[0m                                 Traceback (most recent call last)",
      "Cell \u001b[1;32mIn[1], line 2\u001b[0m\n\u001b[0;32m      1\u001b[0m \u001b[38;5;66;03m# Export best parameters\u001b[39;00m\n\u001b[1;32m----> 2\u001b[0m \u001b[43mbest_params\u001b[49m\u001b[38;5;241m.\u001b[39mto_csv(\u001b[38;5;124m\"\u001b[39m\u001b[38;5;124m../Forecasting Product/best_params_prophet.csv\u001b[39m\u001b[38;5;124m\"\u001b[39m)\n",
      "\u001b[1;31mNameError\u001b[0m: name 'best_params' is not defined"
     ]
    }
   ],
   "source": [
    "# Export best parameters\n",
    "best_params.to_csv(\"../Forecasting Product/best_params_prophet.csv\")"
   ]
  },
  {
   "cell_type": "code",
   "execution_count": null,
   "metadata": {},
   "outputs": [],
   "source": []
  }
 ],
 "metadata": {
  "colab": {
   "authorship_tag": "ABX9TyMy6X9Xt3gwqsevwLtZlzra",
   "collapsed_sections": [],
   "name": "Useful Commands.ipynb",
   "provenance": []
  },
  "kernelspec": {
   "display_name": "Python 3 (ipykernel)",
   "language": "python",
   "name": "python3"
  },
  "language_info": {
   "codemirror_mode": {
    "name": "ipython",
    "version": 3
   },
   "file_extension": ".py",
   "mimetype": "text/x-python",
   "name": "python",
   "nbconvert_exporter": "python",
   "pygments_lexer": "ipython3",
   "version": "3.8.17"
  }
 },
 "nbformat": 4,
 "nbformat_minor": 1
}
