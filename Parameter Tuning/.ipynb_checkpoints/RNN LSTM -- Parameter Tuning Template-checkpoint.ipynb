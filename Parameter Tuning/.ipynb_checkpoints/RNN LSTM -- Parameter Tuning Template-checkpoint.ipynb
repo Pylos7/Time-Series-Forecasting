{
 "cells": [
  {
   "cell_type": "markdown",
   "id": "e70e04ab",
   "metadata": {},
   "source": [
    "# Libraries and Data"
   ]
  },
  {
   "cell_type": "code",
   "execution_count": 38,
   "id": "25629f51",
   "metadata": {},
   "outputs": [],
   "source": [
    "# Libraries\n",
    "import numpy as np\n",
    "import pandas as pd\n",
    "import matplotlib.pyplot as plt\n",
    "from sklearn.model_selection import ParameterGrid\n",
    "from darts.timeseries import TimeSeries\n",
    "from darts.utils.timeseries_generation import datetime_attribute_timeseries\n",
    "from darts.dataprocessing.transformers import Scaler\n",
    "from darts.models import RNNModel"
   ]
  },
  {
   "cell_type": "code",
   "execution_count": 30,
   "id": "dacf7120",
   "metadata": {},
   "outputs": [
    {
     "data": {
      "text/html": [
       "<div>\n",
       "<style scoped>\n",
       "    .dataframe tbody tr th:only-of-type {\n",
       "        vertical-align: middle;\n",
       "    }\n",
       "\n",
       "    .dataframe tbody tr th {\n",
       "        vertical-align: top;\n",
       "    }\n",
       "\n",
       "    .dataframe thead th {\n",
       "        text-align: right;\n",
       "    }\n",
       "</style>\n",
       "<table border=\"1\" class=\"dataframe\">\n",
       "  <thead>\n",
       "    <tr style=\"text-align: right;\">\n",
       "      <th></th>\n",
       "      <th>Demand</th>\n",
       "      <th>Easter</th>\n",
       "      <th>Thanksgiving</th>\n",
       "      <th>Christmas</th>\n",
       "      <th>Temperature</th>\n",
       "      <th>Marketing</th>\n",
       "    </tr>\n",
       "    <tr>\n",
       "      <th>Date</th>\n",
       "      <th></th>\n",
       "      <th></th>\n",
       "      <th></th>\n",
       "      <th></th>\n",
       "      <th></th>\n",
       "      <th></th>\n",
       "    </tr>\n",
       "  </thead>\n",
       "  <tbody>\n",
       "    <tr>\n",
       "      <th>2015-01-01</th>\n",
       "      <td>720.000885</td>\n",
       "      <td>0</td>\n",
       "      <td>0</td>\n",
       "      <td>0</td>\n",
       "      <td>3.68</td>\n",
       "      <td>41.305</td>\n",
       "    </tr>\n",
       "    <tr>\n",
       "      <th>2015-01-02</th>\n",
       "      <td>581.276773</td>\n",
       "      <td>0</td>\n",
       "      <td>0</td>\n",
       "      <td>0</td>\n",
       "      <td>4.73</td>\n",
       "      <td>131.574</td>\n",
       "    </tr>\n",
       "    <tr>\n",
       "      <th>2015-01-03</th>\n",
       "      <td>754.117039</td>\n",
       "      <td>0</td>\n",
       "      <td>0</td>\n",
       "      <td>0</td>\n",
       "      <td>7.23</td>\n",
       "      <td>162.700</td>\n",
       "    </tr>\n",
       "    <tr>\n",
       "      <th>2015-01-04</th>\n",
       "      <td>622.252774</td>\n",
       "      <td>0</td>\n",
       "      <td>0</td>\n",
       "      <td>0</td>\n",
       "      <td>10.96</td>\n",
       "      <td>160.281</td>\n",
       "    </tr>\n",
       "    <tr>\n",
       "      <th>2015-01-05</th>\n",
       "      <td>785.373319</td>\n",
       "      <td>0</td>\n",
       "      <td>0</td>\n",
       "      <td>0</td>\n",
       "      <td>6.92</td>\n",
       "      <td>51.077</td>\n",
       "    </tr>\n",
       "  </tbody>\n",
       "</table>\n",
       "</div>"
      ],
      "text/plain": [
       "                Demand  Easter  Thanksgiving  Christmas  Temperature  \\\n",
       "Date                                                                   \n",
       "2015-01-01  720.000885       0             0          0         3.68   \n",
       "2015-01-02  581.276773       0             0          0         4.73   \n",
       "2015-01-03  754.117039       0             0          0         7.23   \n",
       "2015-01-04  622.252774       0             0          0        10.96   \n",
       "2015-01-05  785.373319       0             0          0         6.92   \n",
       "\n",
       "            Marketing  \n",
       "Date                   \n",
       "2015-01-01     41.305  \n",
       "2015-01-02    131.574  \n",
       "2015-01-03    162.700  \n",
       "2015-01-04    160.281  \n",
       "2015-01-05     51.077  "
      ]
     },
     "execution_count": 30,
     "metadata": {},
     "output_type": "execute_result"
    }
   ],
   "source": [
    "# Load the data\n",
    "# YYYY-MM-DD\n",
    "df = pd.read_csv('../nyc_data.csv', index_col = 0, parse_dates = True)\n",
    "df.head()"
   ]
  },
  {
   "cell_type": "code",
   "execution_count": 31,
   "id": "5ea65a02",
   "metadata": {},
   "outputs": [
    {
     "data": {
      "text/html": [
       "<div>\n",
       "<style scoped>\n",
       "    .dataframe tbody tr th:only-of-type {\n",
       "        vertical-align: middle;\n",
       "    }\n",
       "\n",
       "    .dataframe tbody tr th {\n",
       "        vertical-align: top;\n",
       "    }\n",
       "\n",
       "    .dataframe thead th {\n",
       "        text-align: right;\n",
       "    }\n",
       "</style>\n",
       "<table border=\"1\" class=\"dataframe\">\n",
       "  <thead>\n",
       "    <tr style=\"text-align: right;\">\n",
       "      <th></th>\n",
       "      <th>y</th>\n",
       "      <th>Easter</th>\n",
       "      <th>Thanksgiving</th>\n",
       "      <th>Christmas</th>\n",
       "      <th>Temperature</th>\n",
       "      <th>Marketing</th>\n",
       "    </tr>\n",
       "    <tr>\n",
       "      <th>Date</th>\n",
       "      <th></th>\n",
       "      <th></th>\n",
       "      <th></th>\n",
       "      <th></th>\n",
       "      <th></th>\n",
       "      <th></th>\n",
       "    </tr>\n",
       "  </thead>\n",
       "  <tbody>\n",
       "    <tr>\n",
       "      <th>2015-01-01</th>\n",
       "      <td>720.000885</td>\n",
       "      <td>0</td>\n",
       "      <td>0</td>\n",
       "      <td>0</td>\n",
       "      <td>3.68</td>\n",
       "      <td>41.305</td>\n",
       "    </tr>\n",
       "    <tr>\n",
       "      <th>2015-01-02</th>\n",
       "      <td>581.276773</td>\n",
       "      <td>0</td>\n",
       "      <td>0</td>\n",
       "      <td>0</td>\n",
       "      <td>4.73</td>\n",
       "      <td>131.574</td>\n",
       "    </tr>\n",
       "    <tr>\n",
       "      <th>2015-01-03</th>\n",
       "      <td>754.117039</td>\n",
       "      <td>0</td>\n",
       "      <td>0</td>\n",
       "      <td>0</td>\n",
       "      <td>7.23</td>\n",
       "      <td>162.700</td>\n",
       "    </tr>\n",
       "    <tr>\n",
       "      <th>2015-01-04</th>\n",
       "      <td>622.252774</td>\n",
       "      <td>0</td>\n",
       "      <td>0</td>\n",
       "      <td>0</td>\n",
       "      <td>10.96</td>\n",
       "      <td>160.281</td>\n",
       "    </tr>\n",
       "    <tr>\n",
       "      <th>2015-01-05</th>\n",
       "      <td>785.373319</td>\n",
       "      <td>0</td>\n",
       "      <td>0</td>\n",
       "      <td>0</td>\n",
       "      <td>6.92</td>\n",
       "      <td>51.077</td>\n",
       "    </tr>\n",
       "    <tr>\n",
       "      <th>...</th>\n",
       "      <td>...</td>\n",
       "      <td>...</td>\n",
       "      <td>...</td>\n",
       "      <td>...</td>\n",
       "      <td>...</td>\n",
       "      <td>...</td>\n",
       "    </tr>\n",
       "    <tr>\n",
       "      <th>2020-12-27</th>\n",
       "      <td>685.915026</td>\n",
       "      <td>0</td>\n",
       "      <td>0</td>\n",
       "      <td>0</td>\n",
       "      <td>2.89</td>\n",
       "      <td>38.674</td>\n",
       "    </tr>\n",
       "    <tr>\n",
       "      <th>2020-12-28</th>\n",
       "      <td>998.051170</td>\n",
       "      <td>0</td>\n",
       "      <td>0</td>\n",
       "      <td>0</td>\n",
       "      <td>8.83</td>\n",
       "      <td>166.712</td>\n",
       "    </tr>\n",
       "    <tr>\n",
       "      <th>2020-12-29</th>\n",
       "      <td>847.123399</td>\n",
       "      <td>0</td>\n",
       "      <td>0</td>\n",
       "      <td>0</td>\n",
       "      <td>3.48</td>\n",
       "      <td>161.865</td>\n",
       "    </tr>\n",
       "    <tr>\n",
       "      <th>2020-12-30</th>\n",
       "      <td>857.521043</td>\n",
       "      <td>0</td>\n",
       "      <td>0</td>\n",
       "      <td>0</td>\n",
       "      <td>5.97</td>\n",
       "      <td>179.634</td>\n",
       "    </tr>\n",
       "    <tr>\n",
       "      <th>2020-12-31</th>\n",
       "      <td>783.891494</td>\n",
       "      <td>0</td>\n",
       "      <td>0</td>\n",
       "      <td>0</td>\n",
       "      <td>8.22</td>\n",
       "      <td>149.221</td>\n",
       "    </tr>\n",
       "  </tbody>\n",
       "</table>\n",
       "<p>2192 rows × 6 columns</p>\n",
       "</div>"
      ],
      "text/plain": [
       "                     y  Easter  Thanksgiving  Christmas  Temperature  \\\n",
       "Date                                                                   \n",
       "2015-01-01  720.000885       0             0          0         3.68   \n",
       "2015-01-02  581.276773       0             0          0         4.73   \n",
       "2015-01-03  754.117039       0             0          0         7.23   \n",
       "2015-01-04  622.252774       0             0          0        10.96   \n",
       "2015-01-05  785.373319       0             0          0         6.92   \n",
       "...                ...     ...           ...        ...          ...   \n",
       "2020-12-27  685.915026       0             0          0         2.89   \n",
       "2020-12-28  998.051170       0             0          0         8.83   \n",
       "2020-12-29  847.123399       0             0          0         3.48   \n",
       "2020-12-30  857.521043       0             0          0         5.97   \n",
       "2020-12-31  783.891494       0             0          0         8.22   \n",
       "\n",
       "            Marketing  \n",
       "Date                   \n",
       "2015-01-01     41.305  \n",
       "2015-01-02    131.574  \n",
       "2015-01-03    162.700  \n",
       "2015-01-04    160.281  \n",
       "2015-01-05     51.077  \n",
       "...               ...  \n",
       "2020-12-27     38.674  \n",
       "2020-12-28    166.712  \n",
       "2020-12-29    161.865  \n",
       "2020-12-30    179.634  \n",
       "2020-12-31    149.221  \n",
       "\n",
       "[2192 rows x 6 columns]"
      ]
     },
     "execution_count": 31,
     "metadata": {},
     "output_type": "execute_result"
    }
   ],
   "source": [
    "# Rename variable\n",
    "df = df.rename({'Demand': 'y'}, axis = 1)\n",
    "df"
   ]
  },
  {
   "cell_type": "markdown",
   "id": "6d09570a",
   "metadata": {},
   "source": [
    "# Prepare for LSTM"
   ]
  },
  {
   "cell_type": "code",
   "execution_count": 32,
   "id": "a0e7231b",
   "metadata": {},
   "outputs": [],
   "source": [
    "# Time Series object\n",
    "series = TimeSeries.from_series(df.y) # Datapoint we are trying to predict\n",
    "covariates = TimeSeries.from_dataframe(df.iloc[:, 1:])"
   ]
  },
  {
   "cell_type": "code",
   "execution_count": 33,
   "id": "6230bd0a",
   "metadata": {},
   "outputs": [],
   "source": [
    "# Year\n",
    "year_series = datetime_attribute_timeseries(\n",
    "    pd.date_range(start = series.start_time(),\n",
    "                  freq = series.freq_str,\n",
    "                  periods = df.shape[0]),\n",
    "    attribute = \"year\",\n",
    "    one_hot = False)\n",
    "\n",
    "# Month\n",
    "month_series = datetime_attribute_timeseries(year_series,\n",
    "                                             attribute = \"month\",\n",
    "                                             one_hot = True)\n",
    "\n",
    "# Weekday\n",
    "weekday_series = datetime_attribute_timeseries(year_series,\n",
    "                                               attribute = \"weekday\",\n",
    "                                               one_hot = True)"
   ]
  },
  {
   "cell_type": "code",
   "execution_count": 34,
   "id": "d1668ef4",
   "metadata": {},
   "outputs": [],
   "source": [
    "# Preparing scalers\n",
    "transformer1 = Scaler()\n",
    "transformer2 = Scaler()"
   ]
  },
  {
   "cell_type": "code",
   "execution_count": 35,
   "id": "6c6e8064",
   "metadata": {},
   "outputs": [],
   "source": [
    "# Scale the Y (timeseries)\n",
    "y_transformed = transformer1.fit_transform(series)"
   ]
  },
  {
   "cell_type": "code",
   "execution_count": 36,
   "id": "11c408ea",
   "metadata": {},
   "outputs": [],
   "source": [
    "# Sale the covariates\n",
    "covariates = covariates.stack(year_series)\n",
    "covariates_transformed = transformer2.fit_transform(covariates)\n",
    "covariates_transformed = covariates_transformed.stack(month_series)\n",
    "covariates_transformed = covariates_transformed.stack(weekday_series)"
   ]
  },
  {
   "cell_type": "markdown",
   "id": "0641b48c",
   "metadata": {},
   "source": [
    "# LSTM (Long Short-Term Memory) Model"
   ]
  },
  {
   "cell_type": "code",
   "execution_count": 43,
   "id": "2167d380",
   "metadata": {},
   "outputs": [],
   "source": [
    "# Model\n",
    "# https://unit8co.github.io/darts/generated_api/darts.models.forecasting.rnn_model.html\n",
    "model = RNNModel(model = \"LSTM\",\n",
    "                 hidden_dim = 20,\n",
    "                 n_rnn_layers = 2,\n",
    "                 dropout = 0,\n",
    "                 n_epochs = 20,\n",
    "                 optimizer_kwargs = {\"lr\": 0.003},\n",
    "                 random_state = 1502,\n",
    "                 training_length = 20,\n",
    "                 input_chunk_length = 15, # Lower than the training length\n",
    "#                  pl_trainer_kwargs = {\"accelerator\": \"gpu\", \"gpus\": -1,\n",
    "#                                       \"auto_select_gpus\": True},\n",
    "                 save_checkpoints = True)"
   ]
  },
  {
   "cell_type": "code",
   "execution_count": 44,
   "id": "b01c72fc",
   "metadata": {},
   "outputs": [
    {
     "name": "stderr",
     "output_type": "stream",
     "text": [
      "GPU available: False, used: False\n",
      "TPU available: False, using: 0 TPU cores\n",
      "IPU available: False, using: 0 IPUs\n",
      "HPU available: False, using: 0 HPUs\n",
      "\n",
      "  | Name          | Type             | Params\n",
      "---------------------------------------------------\n",
      "0 | criterion     | MSELoss          | 0     \n",
      "1 | train_metrics | MetricCollection | 0     \n",
      "2 | val_metrics   | MetricCollection | 0     \n",
      "3 | rnn           | LSTM             | 7.8 K \n",
      "4 | V             | Linear           | 21    \n",
      "---------------------------------------------------\n",
      "7.8 K     Trainable params\n",
      "0         Non-trainable params\n",
      "7.8 K     Total params\n",
      "0.031     Total estimated model params size (MB)\n"
     ]
    },
    {
     "data": {
      "application/vnd.jupyter.widget-view+json": {
       "model_id": "8e36a8e89b274cd7bee7af8a7b1d228a",
       "version_major": 2,
       "version_minor": 0
      },
      "text/plain": [
       "Training: 0it [00:00, ?it/s]"
      ]
     },
     "metadata": {},
     "output_type": "display_data"
    },
    {
     "name": "stderr",
     "output_type": "stream",
     "text": [
      "C:\\Users\\Nes_X\\Desktop\\Time Series Forecasting Product\\env\\lib\\site-packages\\pytorch_lightning\\callbacks\\model_checkpoint.py:359: UserWarning: `ModelCheckpoint(monitor='val_loss')` could not find the monitored key in the returned metrics: ['train_loss', 'epoch', 'step']. HINT: Did you call `log('val_loss', value)` in the `LightningModule`?\n",
      "  warning_cache.warn(m)\n",
      "`Trainer.fit` stopped: `max_epochs=20` reached.\n"
     ]
    },
    {
     "data": {
      "text/plain": [
       "RNNModel(model=LSTM, hidden_dim=20, n_rnn_layers=2, dropout=0, training_length=20, n_epochs=20, optimizer_kwargs={'lr': 0.003}, random_state=1502, input_chunk_length=15, save_checkpoints=True)"
      ]
     },
     "execution_count": 44,
     "metadata": {},
     "output_type": "execute_result"
    }
   ],
   "source": [
    "# Fit the model to the data\n",
    "model.fit(y_transformed,\n",
    "          future_covariates = covariates_transformed)"
   ]
  },
  {
   "cell_type": "code",
   "execution_count": null,
   "id": "090e4d47",
   "metadata": {},
   "outputs": [],
   "source": [
    "# Cross-validation\n",
    "cv = model.historical_forecasts(y_transformed,\n",
    "                                )"
   ]
  }
 ],
 "metadata": {
  "kernelspec": {
   "display_name": "Python 3 (ipykernel)",
   "language": "python",
   "name": "python3"
  },
  "language_info": {
   "codemirror_mode": {
    "name": "ipython",
    "version": 3
   },
   "file_extension": ".py",
   "mimetype": "text/x-python",
   "name": "python",
   "nbconvert_exporter": "python",
   "pygments_lexer": "ipython3",
   "version": "3.8.17"
  }
 },
 "nbformat": 4,
 "nbformat_minor": 5
}
