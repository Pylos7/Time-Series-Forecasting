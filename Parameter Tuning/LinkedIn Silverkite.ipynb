{
 "cells": [
  {
   "cell_type": "code",
   "execution_count": 10,
   "id": "2763f34f",
   "metadata": {},
   "outputs": [],
   "source": [
    "# Libraries and data\n",
    "import pandas as pd\n",
    "import numpy as np\n",
    "import matplotlib.pyplot as plt\n",
    "from greykite.framework.templates.autogen.forecast_config import *\n",
    "from greykite.framework.templates.forecaster import Forecaster\n",
    "from greykite.framework.templates.model_templates import ModelTemplateEnum\n",
    "from greykite.common.features.timeseries_features import *\n",
    "from greykite.common.evaluation import EvaluationMetricEnum\n",
    "from greykite.framework.utils.result_summary import summarize_grid_search_results\n",
    "from plotly.offline import iplot"
   ]
  },
  {
   "cell_type": "code",
   "execution_count": 15,
   "id": "065f25a3",
   "metadata": {},
   "outputs": [
    {
     "data": {
      "text/html": [
       "<div>\n",
       "<style scoped>\n",
       "    .dataframe tbody tr th:only-of-type {\n",
       "        vertical-align: middle;\n",
       "    }\n",
       "\n",
       "    .dataframe tbody tr th {\n",
       "        vertical-align: top;\n",
       "    }\n",
       "\n",
       "    .dataframe thead th {\n",
       "        text-align: right;\n",
       "    }\n",
       "</style>\n",
       "<table border=\"1\" class=\"dataframe\">\n",
       "  <thead>\n",
       "    <tr style=\"text-align: right;\">\n",
       "      <th></th>\n",
       "      <th>Date</th>\n",
       "      <th>Demand</th>\n",
       "      <th>Easter</th>\n",
       "      <th>Thanksgiving</th>\n",
       "      <th>Christmas</th>\n",
       "      <th>Temperature</th>\n",
       "      <th>Marketing</th>\n",
       "    </tr>\n",
       "  </thead>\n",
       "  <tbody>\n",
       "    <tr>\n",
       "      <th>0</th>\n",
       "      <td>1/1/2015</td>\n",
       "      <td>720.000885</td>\n",
       "      <td>0</td>\n",
       "      <td>0</td>\n",
       "      <td>0</td>\n",
       "      <td>3.68</td>\n",
       "      <td>41.305</td>\n",
       "    </tr>\n",
       "    <tr>\n",
       "      <th>1</th>\n",
       "      <td>1/2/2015</td>\n",
       "      <td>581.276773</td>\n",
       "      <td>0</td>\n",
       "      <td>0</td>\n",
       "      <td>0</td>\n",
       "      <td>4.73</td>\n",
       "      <td>131.574</td>\n",
       "    </tr>\n",
       "    <tr>\n",
       "      <th>2</th>\n",
       "      <td>1/3/2015</td>\n",
       "      <td>754.117039</td>\n",
       "      <td>0</td>\n",
       "      <td>0</td>\n",
       "      <td>0</td>\n",
       "      <td>7.23</td>\n",
       "      <td>162.700</td>\n",
       "    </tr>\n",
       "    <tr>\n",
       "      <th>3</th>\n",
       "      <td>1/4/2015</td>\n",
       "      <td>622.252774</td>\n",
       "      <td>0</td>\n",
       "      <td>0</td>\n",
       "      <td>0</td>\n",
       "      <td>10.96</td>\n",
       "      <td>160.281</td>\n",
       "    </tr>\n",
       "    <tr>\n",
       "      <th>4</th>\n",
       "      <td>1/5/2015</td>\n",
       "      <td>785.373319</td>\n",
       "      <td>0</td>\n",
       "      <td>0</td>\n",
       "      <td>0</td>\n",
       "      <td>6.92</td>\n",
       "      <td>51.077</td>\n",
       "    </tr>\n",
       "    <tr>\n",
       "      <th>...</th>\n",
       "      <td>...</td>\n",
       "      <td>...</td>\n",
       "      <td>...</td>\n",
       "      <td>...</td>\n",
       "      <td>...</td>\n",
       "      <td>...</td>\n",
       "      <td>...</td>\n",
       "    </tr>\n",
       "    <tr>\n",
       "      <th>2187</th>\n",
       "      <td>12/27/2020</td>\n",
       "      <td>685.915026</td>\n",
       "      <td>0</td>\n",
       "      <td>0</td>\n",
       "      <td>0</td>\n",
       "      <td>2.89</td>\n",
       "      <td>38.674</td>\n",
       "    </tr>\n",
       "    <tr>\n",
       "      <th>2188</th>\n",
       "      <td>12/28/2020</td>\n",
       "      <td>998.051170</td>\n",
       "      <td>0</td>\n",
       "      <td>0</td>\n",
       "      <td>0</td>\n",
       "      <td>8.83</td>\n",
       "      <td>166.712</td>\n",
       "    </tr>\n",
       "    <tr>\n",
       "      <th>2189</th>\n",
       "      <td>12/29/2020</td>\n",
       "      <td>847.123399</td>\n",
       "      <td>0</td>\n",
       "      <td>0</td>\n",
       "      <td>0</td>\n",
       "      <td>3.48</td>\n",
       "      <td>161.865</td>\n",
       "    </tr>\n",
       "    <tr>\n",
       "      <th>2190</th>\n",
       "      <td>12/30/2020</td>\n",
       "      <td>857.521043</td>\n",
       "      <td>0</td>\n",
       "      <td>0</td>\n",
       "      <td>0</td>\n",
       "      <td>5.97</td>\n",
       "      <td>179.634</td>\n",
       "    </tr>\n",
       "    <tr>\n",
       "      <th>2191</th>\n",
       "      <td>12/31/2020</td>\n",
       "      <td>783.891494</td>\n",
       "      <td>0</td>\n",
       "      <td>0</td>\n",
       "      <td>0</td>\n",
       "      <td>8.22</td>\n",
       "      <td>149.221</td>\n",
       "    </tr>\n",
       "  </tbody>\n",
       "</table>\n",
       "<p>2192 rows × 7 columns</p>\n",
       "</div>"
      ],
      "text/plain": [
       "            Date      Demand  Easter  Thanksgiving  Christmas  Temperature  Marketing\n",
       "0       1/1/2015  720.000885       0             0          0         3.68     41.305\n",
       "1       1/2/2015  581.276773       0             0          0         4.73    131.574\n",
       "2       1/3/2015  754.117039       0             0          0         7.23    162.700\n",
       "3       1/4/2015  622.252774       0             0          0        10.96    160.281\n",
       "4       1/5/2015  785.373319       0             0          0         6.92     51.077\n",
       "...          ...         ...     ...           ...        ...          ...        ...\n",
       "2187  12/27/2020  685.915026       0             0          0         2.89     38.674\n",
       "2188  12/28/2020  998.051170       0             0          0         8.83    166.712\n",
       "2189  12/29/2020  847.123399       0             0          0         3.48    161.865\n",
       "2190  12/30/2020  857.521043       0             0          0         5.97    179.634\n",
       "2191  12/31/2020  783.891494       0             0          0         8.22    149.221\n",
       "\n",
       "[2192 rows x 7 columns]"
      ]
     },
     "execution_count": 15,
     "metadata": {},
     "output_type": "execute_result"
    }
   ],
   "source": [
    "# Load the dat\n",
    "# YYYY-MM-DD\n",
    "df = pd.read_csv('../nyc_data.csv')\n",
    "future_df = pd.read_csv('../future.csv')\n",
    "df"
   ]
  },
  {
   "cell_type": "code",
   "execution_count": 16,
   "id": "528eb4da",
   "metadata": {},
   "outputs": [
    {
     "data": {
      "text/html": [
       "<div>\n",
       "<style scoped>\n",
       "    .dataframe tbody tr th:only-of-type {\n",
       "        vertical-align: middle;\n",
       "    }\n",
       "\n",
       "    .dataframe tbody tr th {\n",
       "        vertical-align: top;\n",
       "    }\n",
       "\n",
       "    .dataframe thead th {\n",
       "        text-align: right;\n",
       "    }\n",
       "</style>\n",
       "<table border=\"1\" class=\"dataframe\">\n",
       "  <thead>\n",
       "    <tr style=\"text-align: right;\">\n",
       "      <th></th>\n",
       "      <th>Date</th>\n",
       "      <th>Demand</th>\n",
       "      <th>Easter</th>\n",
       "      <th>Thanksgiving</th>\n",
       "      <th>Christmas</th>\n",
       "      <th>Temperature</th>\n",
       "      <th>Marketing</th>\n",
       "    </tr>\n",
       "  </thead>\n",
       "  <tbody>\n",
       "    <tr>\n",
       "      <th>0</th>\n",
       "      <td>1/1/2015</td>\n",
       "      <td>720.000885</td>\n",
       "      <td>0</td>\n",
       "      <td>0</td>\n",
       "      <td>0</td>\n",
       "      <td>3.68</td>\n",
       "      <td>41.305</td>\n",
       "    </tr>\n",
       "    <tr>\n",
       "      <th>1</th>\n",
       "      <td>1/2/2015</td>\n",
       "      <td>581.276773</td>\n",
       "      <td>0</td>\n",
       "      <td>0</td>\n",
       "      <td>0</td>\n",
       "      <td>4.73</td>\n",
       "      <td>131.574</td>\n",
       "    </tr>\n",
       "    <tr>\n",
       "      <th>2</th>\n",
       "      <td>1/3/2015</td>\n",
       "      <td>754.117039</td>\n",
       "      <td>0</td>\n",
       "      <td>0</td>\n",
       "      <td>0</td>\n",
       "      <td>7.23</td>\n",
       "      <td>162.700</td>\n",
       "    </tr>\n",
       "    <tr>\n",
       "      <th>3</th>\n",
       "      <td>1/4/2015</td>\n",
       "      <td>622.252774</td>\n",
       "      <td>0</td>\n",
       "      <td>0</td>\n",
       "      <td>0</td>\n",
       "      <td>10.96</td>\n",
       "      <td>160.281</td>\n",
       "    </tr>\n",
       "    <tr>\n",
       "      <th>4</th>\n",
       "      <td>1/5/2015</td>\n",
       "      <td>785.373319</td>\n",
       "      <td>0</td>\n",
       "      <td>0</td>\n",
       "      <td>0</td>\n",
       "      <td>6.92</td>\n",
       "      <td>51.077</td>\n",
       "    </tr>\n",
       "  </tbody>\n",
       "</table>\n",
       "</div>"
      ],
      "text/plain": [
       "       Date      Demand  Easter  Thanksgiving  Christmas  Temperature  Marketing\n",
       "0  1/1/2015  720.000885       0             0          0         3.68     41.305\n",
       "1  1/2/2015  581.276773       0             0          0         4.73    131.574\n",
       "2  1/3/2015  754.117039       0             0          0         7.23    162.700\n",
       "3  1/4/2015  622.252774       0             0          0        10.96    160.281\n",
       "4  1/5/2015  785.373319       0             0          0         6.92     51.077"
      ]
     },
     "execution_count": 16,
     "metadata": {},
     "output_type": "execute_result"
    }
   ],
   "source": [
    "# Merging both\n",
    "df = pd.concat([df, future_df])\n",
    "df = df.reset_index(drop = True)\n",
    "df.head()"
   ]
  },
  {
   "cell_type": "code",
   "execution_count": 17,
   "id": "156f55d8",
   "metadata": {},
   "outputs": [
    {
     "data": {
      "text/html": [
       "<div>\n",
       "<style scoped>\n",
       "    .dataframe tbody tr th:only-of-type {\n",
       "        vertical-align: middle;\n",
       "    }\n",
       "\n",
       "    .dataframe tbody tr th {\n",
       "        vertical-align: top;\n",
       "    }\n",
       "\n",
       "    .dataframe thead th {\n",
       "        text-align: right;\n",
       "    }\n",
       "</style>\n",
       "<table border=\"1\" class=\"dataframe\">\n",
       "  <thead>\n",
       "    <tr style=\"text-align: right;\">\n",
       "      <th></th>\n",
       "      <th>Date</th>\n",
       "      <th>Demand</th>\n",
       "      <th>Easter</th>\n",
       "      <th>Thanksgiving</th>\n",
       "      <th>Christmas</th>\n",
       "      <th>Temperature</th>\n",
       "      <th>Marketing</th>\n",
       "    </tr>\n",
       "  </thead>\n",
       "  <tbody>\n",
       "    <tr>\n",
       "      <th>2218</th>\n",
       "      <td>1/27/2021</td>\n",
       "      <td>NaN</td>\n",
       "      <td>0</td>\n",
       "      <td>0</td>\n",
       "      <td>0</td>\n",
       "      <td>3.33</td>\n",
       "      <td>39.664</td>\n",
       "    </tr>\n",
       "    <tr>\n",
       "      <th>2219</th>\n",
       "      <td>1/28/2021</td>\n",
       "      <td>NaN</td>\n",
       "      <td>0</td>\n",
       "      <td>0</td>\n",
       "      <td>0</td>\n",
       "      <td>1.67</td>\n",
       "      <td>195.314</td>\n",
       "    </tr>\n",
       "    <tr>\n",
       "      <th>2220</th>\n",
       "      <td>1/29/2021</td>\n",
       "      <td>NaN</td>\n",
       "      <td>0</td>\n",
       "      <td>0</td>\n",
       "      <td>0</td>\n",
       "      <td>-2.78</td>\n",
       "      <td>235.894</td>\n",
       "    </tr>\n",
       "    <tr>\n",
       "      <th>2221</th>\n",
       "      <td>1/30/2021</td>\n",
       "      <td>NaN</td>\n",
       "      <td>0</td>\n",
       "      <td>0</td>\n",
       "      <td>0</td>\n",
       "      <td>1.11</td>\n",
       "      <td>152.752</td>\n",
       "    </tr>\n",
       "    <tr>\n",
       "      <th>2222</th>\n",
       "      <td>1/31/2021</td>\n",
       "      <td>NaN</td>\n",
       "      <td>0</td>\n",
       "      <td>0</td>\n",
       "      <td>0</td>\n",
       "      <td>4.44</td>\n",
       "      <td>158.620</td>\n",
       "    </tr>\n",
       "  </tbody>\n",
       "</table>\n",
       "</div>"
      ],
      "text/plain": [
       "           Date  Demand  Easter  Thanksgiving  Christmas  Temperature  Marketing\n",
       "2218  1/27/2021     NaN       0             0          0         3.33     39.664\n",
       "2219  1/28/2021     NaN       0             0          0         1.67    195.314\n",
       "2220  1/29/2021     NaN       0             0          0        -2.78    235.894\n",
       "2221  1/30/2021     NaN       0             0          0         1.11    152.752\n",
       "2222  1/31/2021     NaN       0             0          0         4.44    158.620"
      ]
     },
     "execution_count": 17,
     "metadata": {},
     "output_type": "execute_result"
    }
   ],
   "source": [
    "# Inspecting df\n",
    "df.tail()"
   ]
  },
  {
   "cell_type": "code",
   "execution_count": 18,
   "id": "c4c199d5",
   "metadata": {},
   "outputs": [
    {
     "data": {
      "text/html": [
       "<div>\n",
       "<style scoped>\n",
       "    .dataframe tbody tr th:only-of-type {\n",
       "        vertical-align: middle;\n",
       "    }\n",
       "\n",
       "    .dataframe tbody tr th {\n",
       "        vertical-align: top;\n",
       "    }\n",
       "\n",
       "    .dataframe thead th {\n",
       "        text-align: right;\n",
       "    }\n",
       "</style>\n",
       "<table border=\"1\" class=\"dataframe\">\n",
       "  <thead>\n",
       "    <tr style=\"text-align: right;\">\n",
       "      <th></th>\n",
       "      <th>Date</th>\n",
       "      <th>y</th>\n",
       "      <th>Easter</th>\n",
       "      <th>Thanksgiving</th>\n",
       "      <th>Christmas</th>\n",
       "      <th>Temperature</th>\n",
       "      <th>Marketing</th>\n",
       "    </tr>\n",
       "  </thead>\n",
       "  <tbody>\n",
       "  </tbody>\n",
       "</table>\n",
       "</div>"
      ],
      "text/plain": [
       "Empty DataFrame\n",
       "Columns: [Date, y, Easter, Thanksgiving, Christmas, Temperature, Marketing]\n",
       "Index: []"
      ]
     },
     "execution_count": 18,
     "metadata": {},
     "output_type": "execute_result"
    }
   ],
   "source": [
    "# Rename variable\n",
    "df = df.rename(columns = {'Demand': 'y'})\n",
    "df.head(0)"
   ]
  },
  {
   "cell_type": "code",
   "execution_count": 21,
   "id": "10a86b42",
   "metadata": {},
   "outputs": [
    {
     "data": {
      "text/plain": [
       "MetadataParam(anomaly_info=None, date_format=None, freq='D', time_col='Date', train_end_date=Timestamp('2020-12-31 00:00:00'), value_col='y')"
      ]
     },
     "execution_count": 21,
     "metadata": {},
     "output_type": "execute_result"
    }
   ],
   "source": [
    "# Specifying time series names\n",
    "metadata = MetadataParam(time_col = \"Date\",\n",
    "              value_col = \"y\",\n",
    "              freq = \"D\",\n",
    "              train_end_date = pd.to_datetime(\"2020-12-31\"))\n",
    "metadata"
   ]
  },
  {
   "cell_type": "code",
   "execution_count": 22,
   "id": "c91d229a",
   "metadata": {},
   "outputs": [
    {
     "data": {
      "text/plain": [
       "{'growth_terms': ['linear', 'quadratic', 'sqrt']}"
      ]
     },
     "execution_count": 22,
     "metadata": {},
     "output_type": "execute_result"
    }
   ],
   "source": [
    "# Growth terms posibilities\n",
    "growth = dict(growth_terms = ['linear', 'quadratic', 'sqrt'])\n",
    "growth"
   ]
  },
  {
   "cell_type": "code",
   "execution_count": 23,
   "id": "bda4f485",
   "metadata": {},
   "outputs": [
    {
     "data": {
      "text/plain": [
       "{'yearly_seasonality': 'auto',\n",
       " 'quarterly_seasonality': 'auto',\n",
       " 'monthly_seasonality': 'auto',\n",
       " 'weekly_seasonality': 'auto',\n",
       " 'daily_seasonality': 'auto'}"
      ]
     },
     "execution_count": 23,
     "metadata": {},
     "output_type": "execute_result"
    }
   ],
   "source": [
    "# Seasonalities\n",
    "seasonality = dict(yearly_seasonality = 'auto',\n",
    "                   quarterly_seasonality = 'auto',\n",
    "                   monthly_seasonality = 'auto',\n",
    "                   weekly_seasonality = 'auto',\n",
    "                   daily_seasonality = 'auto')\n",
    "seasonality"
   ]
  },
  {
   "cell_type": "code",
   "execution_count": 26,
   "id": "9115c6ce",
   "metadata": {},
   "outputs": [
    {
     "data": {
      "text/plain": [
       "['Christmas Day',\n",
       " 'Christmas Day (Observed)',\n",
       " 'Columbus Day',\n",
       " 'Halloween',\n",
       " 'Independence Day',\n",
       " 'Independence Day (Observed)',\n",
       " 'Labor Day',\n",
       " 'Martin Luther King, Jr. Day',\n",
       " 'Memorial Day',\n",
       " \"New Year's Day\",\n",
       " \"New Year's Day (Observed)\",\n",
       " 'Thanksgiving',\n",
       " 'Veterans Day',\n",
       " 'Veterans Day (Observed)',\n",
       " \"Washington's Birthday\"]"
      ]
     },
     "execution_count": 26,
     "metadata": {},
     "output_type": "execute_result"
    }
   ],
   "source": [
    "# Checking wich countries are avaliable and their holidays\n",
    "get_available_holiday_lookup_countries([\"US\"])\n",
    "get_available_holidays_across_countries(countries = [\"US\"],\n",
    "                                        year_start = 2015,\n",
    "                                        year_end = 2021)"
   ]
  },
  {
   "cell_type": "code",
   "execution_count": 29,
   "id": "cced7e75",
   "metadata": {},
   "outputs": [
    {
     "data": {
      "text/plain": [
       "{'holidays_to_model_separatley': [\"New Year's Day\"],\n",
       " 'holiday_lookup_countires': ['US'],\n",
       " 'holidays_pre_num_days': 2,\n",
       " 'holidays_post_num_days': 2,\n",
       " 'holiday_pre_post_num_dict': {\"New Year's Day\": (3, 1)},\n",
       " 'daily_event_df_dict': {'elections':          date event_name\n",
       "  0  2016-11-08  elections\n",
       "  1  2020-11-03  elections}}"
      ]
     },
     "execution_count": 29,
     "metadata": {},
     "output_type": "execute_result"
    }
   ],
   "source": [
    "# Specifying events\n",
    "events = dict(holidays_to_model_separatley = [\"New Year's Day\"],\n",
    "              holiday_lookup_countires = [\"US\"],\n",
    "              holidays_pre_num_days = 2,\n",
    "              holidays_post_num_days = 2,\n",
    "              holiday_pre_post_num_dict = {\"New Year's Day\": (3, 1)}, # 3 days before 1 after\n",
    "              daily_event_df_dict = {\"elections\": pd.DataFrame({\n",
    "                  \"date\": [\"2016-11-08\", \"2020-11-03\"],\n",
    "                  \"event_name\": [\"elections\"] * 2\n",
    "              })})\n",
    "events"
   ]
  },
  {
   "cell_type": "code",
   "execution_count": 30,
   "id": "500f3174",
   "metadata": {},
   "outputs": [],
   "source": [
    "# Changepoints -> Reflects the changes in trend\n",
    "changepoints = dict(changepoints_dict = dict(method = \"auto\"))"
   ]
  },
  {
   "cell_type": "code",
   "execution_count": 31,
   "id": "2cff1a52",
   "metadata": {},
   "outputs": [
    {
     "data": {
      "text/plain": [
       "{'regressor_cols': ['Easter', 'Temperature', 'Marketing']}"
      ]
     },
     "execution_count": 31,
     "metadata": {},
     "output_type": "execute_result"
    }
   ],
   "source": [
    "# Regressors\n",
    "regressors = dict(regressor_cols = [\"Easter\", \"Temperature\", \"Marketing\"])\n",
    "regressors"
   ]
  },
  {
   "cell_type": "code",
   "execution_count": 32,
   "id": "ff54828f",
   "metadata": {},
   "outputs": [],
   "source": [
    "# Lagged regressors\n",
    "lagged_regressors = dict(lagged_regressor_dict = {\"Temperature\": \"auto\",\n",
    "                                                  \"Easter\": \"auto\",\n",
    "                                                  \"Marketing\": \"auto\"})"
   ]
  },
  {
   "cell_type": "code",
   "execution_count": 33,
   "id": "3b30bef1",
   "metadata": {},
   "outputs": [],
   "source": [
    "# Autoregression -> Dependent on the forecasting horizon \n",
    "autoregression = dict(autoreg_dict = \"auto\")"
   ]
  },
  {
   "cell_type": "code",
   "execution_count": 34,
   "id": "13d91561",
   "metadata": {},
   "outputs": [
    {
     "data": {
      "text/plain": [
       "{'fit_algorithim_dict': [{'fit_algorithim': 'linear'},\n",
       "  {'fit_algorithim': 'ridge'},\n",
       "  {'fit_algorithim': 'rf'},\n",
       "  {'fit_algorithim': 'gradient_boosting'}]}"
      ]
     },
     "execution_count": 34,
     "metadata": {},
     "output_type": "execute_result"
    }
   ],
   "source": [
    "# Fiting algorithims\n",
    "custom = dict(fit_algorithim_dict = [dict(fit_algorithim = \"linear\"),\n",
    "                                     dict(fit_algorithim = \"ridge\"),\n",
    "                                     dict(fit_algorithim = \"rf\"),\n",
    "                                     dict(fit_algorithim = \"gradient_boosting\")])\n",
    "custom"
   ]
  },
  {
   "cell_type": "markdown",
   "id": "c14da34c",
   "metadata": {},
   "source": [
    "# Silverkite Model"
   ]
  },
  {
   "cell_type": "code",
   "execution_count": 36,
   "id": "bba2f60c",
   "metadata": {},
   "outputs": [],
   "source": [
    "# Build the model\n",
    "model_components = ModelComponentsParam(growth = growth,\n",
    "                                        seasonality = seasonality,\n",
    "                                        events = events,\n",
    "                                        changepoints = changepoints,\n",
    "                                        regressors = regressors,\n",
    "                                        lagged_regressors = lagged_regressors,\n",
    "                                        autoregression = autoregression,\n",
    "                                        custom = custom)"
   ]
  },
  {
   "cell_type": "code",
   "execution_count": 37,
   "id": "130eb393",
   "metadata": {},
   "outputs": [],
   "source": [
    "# Cross-Validation\n",
    "evaluation_period = EvaluationPeriodParam(cv_min_train_periods = df.shape[0] - 180 - 31,\n",
    "                                          cv_expanding_window = True,\n",
    "                                          cv_max_splits = 50,\n",
    "                                          cv_periods_between_splits = 16)"
   ]
  },
  {
   "cell_type": "code",
   "execution_count": 38,
   "id": "211c0093",
   "metadata": {},
   "outputs": [],
   "source": [
    "# Evaluation metric\n",
    "evaluation_metric = EvaluationMetricParam(\n",
    "    cv_selection_metric = EvaluationMetricEnum.RootMeanSquaredError.name)"
   ]
  },
  {
   "cell_type": "code",
   "execution_count": null,
   "id": "9ef7a089",
   "metadata": {},
   "outputs": [],
   "source": []
  }
 ],
 "metadata": {
  "kernelspec": {
   "display_name": "Python 3 (ipykernel)",
   "language": "python",
   "name": "python3"
  },
  "language_info": {
   "codemirror_mode": {
    "name": "ipython",
    "version": 3
   },
   "file_extension": ".py",
   "mimetype": "text/x-python",
   "name": "python",
   "nbconvert_exporter": "python",
   "pygments_lexer": "ipython3",
   "version": "3.8.17"
  }
 },
 "nbformat": 4,
 "nbformat_minor": 5
}
